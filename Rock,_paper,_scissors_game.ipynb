{
  "nbformat": 4,
  "nbformat_minor": 0,
  "metadata": {
    "colab": {
      "provenance": [],
      "toc_visible": true,
      "authorship_tag": "ABX9TyPuAInbVfhtBjEraQ/RswMH",
      "include_colab_link": true
    },
    "kernelspec": {
      "name": "python3",
      "display_name": "Python 3"
    },
    "language_info": {
      "name": "python"
    }
  },
  "cells": [
    {
      "cell_type": "markdown",
      "metadata": {
        "id": "view-in-github",
        "colab_type": "text"
      },
      "source": [
        "<a href=\"https://colab.research.google.com/github/Ushareddy6745/technohacksedutech/blob/main/Rock%2C_paper%2C_scissors_game.ipynb\" target=\"_parent\"><img src=\"https://colab.research.google.com/assets/colab-badge.svg\" alt=\"Open In Colab\"/></a>"
      ]
    },
    {
      "cell_type": "code",
      "execution_count": 5,
      "metadata": {
        "colab": {
          "base_uri": "https://localhost:8080/"
        },
        "id": "IAb-RtCVya5d",
        "outputId": "6d701e7c-634b-4763-9ff8-515351c0cd1c"
      },
      "outputs": [
        {
          "output_type": "stream",
          "name": "stdout",
          "text": [
            "Enter a choice (rock, paper, scissors): rock\n",
            "Player: rock\n",
            "Computer: rock\n",
            "It's a tie!\n",
            "Play again? (y/n): n\n",
            "Thanks for playing!\n"
          ]
        }
      ],
      "source": [
        "import random\n",
        "\n",
        "options = (\"rock\", \"paper\", \"scissors\")\n",
        "running = True\n",
        "\n",
        "while running:\n",
        "\n",
        "    player = None\n",
        "    computer = random.choice(options)\n",
        "\n",
        "    while player not in options:\n",
        "        player = input(\"Enter a choice (rock, paper, scissors): \")\n",
        "\n",
        "    print(f\"Player: {player}\")\n",
        "    print(f\"Computer: {computer}\")\n",
        "\n",
        "    if player == computer:\n",
        "        print(\"It's a tie!\")\n",
        "    elif player == \"rock\" and computer == \"scissors\":\n",
        "        print(\"You win!\")\n",
        "    elif player == \"paper\" and computer == \"rock\":\n",
        "        print(\"You win!\")\n",
        "    elif player == \"scissors\" and computer == \"paper\":\n",
        "        print(\"You win!\")\n",
        "    else:\n",
        "        print(\"You lose!\")\n",
        "\n",
        "    if not input(\"Play again? (y/n): \").lower() == \"y\":\n",
        "        running = False\n",
        "\n",
        "print(\"Thanks for playing!\")\n"
      ]
    }
  ]
}
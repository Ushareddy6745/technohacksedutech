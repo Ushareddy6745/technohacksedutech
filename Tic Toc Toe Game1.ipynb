{
 "cells": [
  {
   "cell_type": "code",
   "execution_count": 1,
   "id": "c8ce5509",
   "metadata": {},
   "outputs": [],
   "source": [
    "import random\n",
    "\n",
    "board = [\"-\", \"-\", \"-\",\n",
    "        \"-\", \"-\", \"-\",\n",
    "        \"-\", \"-\", \"-\"]\n",
    "currentPlayer = \"X\"\n",
    "winner = None\n",
    "gameRunning = True"
   ]
  },
  {
   "cell_type": "code",
   "execution_count": 2,
   "id": "ab1174d1",
   "metadata": {},
   "outputs": [],
   "source": [
    "# game board\n",
    "def printBoard(board):\n",
    "    print(board[0] + \" | \" + board[1] + \" | \" + board[2])\n",
    "    print(\"---------\")\n",
    "    print(board[3] + \" | \" + board[4] + \" | \" + board[5])\n",
    "    print(\"---------\")\n",
    "    print(board[6] + \" | \" + board[7] + \" | \" + board[8])\n"
   ]
  },
  {
   "cell_type": "code",
   "execution_count": 3,
   "id": "6c05e9f8",
   "metadata": {},
   "outputs": [],
   "source": [
    "# take player input\n",
    "def playerInput(board):\n",
    "    inp = int(input(\"Select a spot 1-9: \"))\n",
    "    if board[inp-1] == \"-\":\n",
    "        board[inp-1] = currentPlayer\n",
    "    else:\n",
    "        print(\"Oops player is already at that spot.\")\n",
    "\n"
   ]
  },
  {
   "cell_type": "code",
   "execution_count": 4,
   "id": "1f5210a0",
   "metadata": {},
   "outputs": [],
   "source": [
    "# check for win or tie\n",
    "def checkHorizontle(board):\n",
    "    global winner\n",
    "    if board[0] == board[1] == board[2] and board[0] != \"-\":\n",
    "        winner = board[0]\n",
    "        return True\n",
    "    elif board[3] == board[4] == board[5] and board[3] != \"-\":\n",
    "        winner = board[3]\n",
    "        return True\n",
    "    elif board[6] == board[7] == board[8] and board[6] != \"-\":\n",
    "        winner = board[6]\n",
    "        return True"
   ]
  },
  {
   "cell_type": "code",
   "execution_count": 5,
   "id": "82e23861",
   "metadata": {},
   "outputs": [],
   "source": [
    "def checkRow(board):\n",
    "    global winner\n",
    "    if board[0] == board[3] == board[6] and board[0] != \"-\":\n",
    "        winner = board[0]\n",
    "        return True\n",
    "    elif board[1] == board[4] == board[7] and board[1] != \"-\":\n",
    "        winner = board[1]\n",
    "        return True\n",
    "    elif board[2] == board[5] == board[8] and board[2] != \"-\":\n",
    "        winner = board[3]\n",
    "        return True"
   ]
  },
  {
   "cell_type": "code",
   "execution_count": 6,
   "id": "a530af12",
   "metadata": {},
   "outputs": [],
   "source": [
    "def checkDiag(board):\n",
    "    global winner\n",
    "    if board[0] == board[4] == board[8] and board[0] != \"-\":\n",
    "        winner = board[0]\n",
    "        return True\n",
    "    elif board[2] == board[4] == board[6] and board[4] != \"-\":\n",
    "        winner = board[2]\n",
    "        return True"
   ]
  },
  {
   "cell_type": "code",
   "execution_count": 7,
   "id": "ae58d395",
   "metadata": {},
   "outputs": [],
   "source": [
    "def checkIfWin(board):\n",
    "    global gameRunning\n",
    "    if checkHorizontle(board):\n",
    "        printBoard(board)\n",
    "        print(f\"The winner is {winner}!\")\n",
    "        gameRunning = False\n",
    "\n",
    "    elif checkRow(board):\n",
    "        printBoard(board)\n",
    "        print(f\"The winner is {winner}!\")\n",
    "        gameRunning = False\n",
    "\n",
    "    elif checkDiag(board):\n",
    "        printBoard(board)\n",
    "        print(f\"The winner is {winner}!\")\n",
    "        gameRunning = False\n"
   ]
  },
  {
   "cell_type": "code",
   "execution_count": 8,
   "id": "228a94c2",
   "metadata": {},
   "outputs": [],
   "source": [
    "def checkIfTie(board):\n",
    "    global gameRunning\n",
    "    if \"-\" not in board:\n",
    "        printBoard(board)\n",
    "        print(\"It is a tie!\")\n",
    "        gameRunning = False"
   ]
  },
  {
   "cell_type": "code",
   "execution_count": 9,
   "id": "10b6f6a1",
   "metadata": {},
   "outputs": [],
   "source": [
    "# switch player\n",
    "def switchPlayer():\n",
    "    global currentPlayer\n",
    "    if currentPlayer == \"X\":\n",
    "        currentPlayer = \"O\"\n",
    "    else:\n",
    "        currentPlayer = \"X\"\n"
   ]
  },
  {
   "cell_type": "code",
   "execution_count": 10,
   "id": "4b0740fd",
   "metadata": {},
   "outputs": [],
   "source": [
    "def computer(board):\n",
    "    while currentPlayer == \"O\":\n",
    "        position = random.randint(0, 8)\n",
    "        if board[position] == \"-\":\n",
    "            board[position] = \"O\"\n",
    "            switchPlayer()\n"
   ]
  },
  {
   "cell_type": "code",
   "execution_count": 11,
   "id": "5f194300",
   "metadata": {},
   "outputs": [
    {
     "name": "stdout",
     "output_type": "stream",
     "text": [
      "- | - | -\n",
      "---------\n",
      "- | - | -\n",
      "---------\n",
      "- | - | -\n",
      "Select a spot 1-9: 1\n",
      "X | - | -\n",
      "---------\n",
      "- | - | -\n",
      "---------\n",
      "O | - | -\n",
      "Select a spot 1-9: 4\n",
      "X | - | -\n",
      "---------\n",
      "X | - | -\n",
      "---------\n",
      "O | O | -\n",
      "Select a spot 1-9: 8\n",
      "Oops player is already at that spot.\n",
      "X | - | -\n",
      "---------\n",
      "X | O | -\n",
      "---------\n",
      "O | O | -\n",
      "Select a spot 1-9: 8\n",
      "Oops player is already at that spot.\n",
      "X | - | -\n",
      "---------\n",
      "X | O | -\n",
      "---------\n",
      "O | O | O\n",
      "The winner is O!\n"
     ]
    },
    {
     "data": {
      "text/plain": [
       "4"
      ]
     },
     "execution_count": 11,
     "metadata": {},
     "output_type": "execute_result"
    }
   ],
   "source": [
    "\n",
    "while gameRunning:\n",
    "    printBoard(board)\n",
    "    playerInput(board)\n",
    "    checkIfWin(board)\n",
    "    checkIfTie(board)\n",
    "    switchPlayer()\n",
    "    computer(board)\n",
    "    checkIfWin(board)\n",
    "    checkIfTie(board)\n",
    "\n",
    "4"
   ]
  },
  {
   "cell_type": "code",
   "execution_count": null,
   "id": "202caf02",
   "metadata": {},
   "outputs": [],
   "source": []
  }
 ],
 "metadata": {
  "kernelspec": {
   "display_name": "Python 3 (ipykernel)",
   "language": "python",
   "name": "python3"
  },
  "language_info": {
   "codemirror_mode": {
    "name": "ipython",
    "version": 3
   },
   "file_extension": ".py",
   "mimetype": "text/x-python",
   "name": "python",
   "nbconvert_exporter": "python",
   "pygments_lexer": "ipython3",
   "version": "3.9.13"
  }
 },
 "nbformat": 4,
 "nbformat_minor": 5
}

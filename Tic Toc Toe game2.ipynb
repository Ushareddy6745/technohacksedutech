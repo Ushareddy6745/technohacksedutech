{
 "cells": [
  {
   "cell_type": "code",
   "execution_count": 1,
   "id": "88bacbbf",
   "metadata": {},
   "outputs": [],
   "source": [
    "board = {1: ' ', 2: ' ', 3: ' ',\n",
    "         4: ' ', 5: ' ', 6: ' ',\n",
    "         7: ' ', 8: ' ', 9: ' '}\n",
    "player = 'O'\n",
    "bot = 'X'"
   ]
  },
  {
   "cell_type": "code",
   "execution_count": 2,
   "id": "edaf7864",
   "metadata": {},
   "outputs": [],
   "source": [
    "def printBoard(board):\n",
    "    print(board[1] + '|' + board[2] + '|' + board[3])\n",
    "    print('-+-+-')\n",
    "    print(board[4] + '|' + board[5] + '|' + board[6])\n",
    "    print('-+-+-')\n",
    "    print(board[7] + '|' + board[8] + '|' + board[9])\n",
    "    print(\"\\n\")"
   ]
  },
  {
   "cell_type": "code",
   "execution_count": 3,
   "id": "ef6a37ae",
   "metadata": {},
   "outputs": [],
   "source": [
    "def spaceIsFree(position):\n",
    "    if board[position] == ' ':\n",
    "        return True\n",
    "    else:\n",
    "        return False"
   ]
  },
  {
   "cell_type": "code",
   "execution_count": 11,
   "id": "4d3dffca",
   "metadata": {},
   "outputs": [],
   "source": [
    "def insertLetter(letter, position):\n",
    "    if spaceIsFree(position):\n",
    "        board[position] = letter\n",
    "        printBoard(board)\n",
    "        if (checkDraw()):\n",
    "            print(\"Draw!\")\n",
    "            exit()\n",
    "        if checkForWin():\n",
    "            if letter == 'X':\n",
    "                print(\"Bot wins!\")\n",
    "                exit()\n",
    "            else:\n",
    "                print(\"Player wins!\")\n",
    "                exit()\n",
    "\n",
    "        return\n",
    "\n",
    "\n",
    "    else:\n",
    "        print(\"Can't insert there!\")\n",
    "        position = int(input(\"Please enter new position:  \"))\n",
    "        insertLetter(letter, position)\n",
    "        return"
   ]
  },
  {
   "cell_type": "code",
   "execution_count": 12,
   "id": "d49ea909",
   "metadata": {},
   "outputs": [],
   "source": [
    "def checkForWin():\n",
    "    if (board[1] == board[2] and board[1] == board[3] and board[1] != ' '):\n",
    "        return True\n",
    "    elif (board[4] == board[5] and board[4] == board[6] and board[4] != ' '):\n",
    "        return True\n",
    "    elif (board[7] == board[8] and board[7] == board[9] and board[7] != ' '):\n",
    "        return True\n",
    "    elif (board[1] == board[4] and board[1] == board[7] and board[1] != ' '):\n",
    "        return True\n",
    "    elif (board[2] == board[5] and board[2] == board[8] and board[2] != ' '):\n",
    "        return True\n",
    "    elif (board[3] == board[6] and board[3] == board[9] and board[3] != ' '):\n",
    "        return True\n",
    "    elif (board[1] == board[5] and board[1] == board[9] and board[1] != ' '):\n",
    "        return True\n",
    "    elif (board[7] == board[5] and board[7] == board[3] and board[7] != ' '):\n",
    "        return True\n",
    "    else:\n",
    "        return False\n"
   ]
  },
  {
   "cell_type": "code",
   "execution_count": 13,
   "id": "28284710",
   "metadata": {},
   "outputs": [],
   "source": [
    "def checkDraw():\n",
    "    for key in board.keys():\n",
    "        if (board[key] == ' '):\n",
    "            return False\n",
    "    return True\n"
   ]
  },
  {
   "cell_type": "code",
   "execution_count": 14,
   "id": "549a0624",
   "metadata": {},
   "outputs": [],
   "source": [
    "def playerMove():\n",
    "    position = int(input(\"Enter the position for 'O':  \"))\n",
    "    insertLetter(player, position)\n",
    "    return\n"
   ]
  },
  {
   "cell_type": "code",
   "execution_count": 15,
   "id": "57648c26",
   "metadata": {},
   "outputs": [
    {
     "name": "stdout",
     "output_type": "stream",
     "text": [
      " | | \n",
      "-+-+-\n",
      " | | \n",
      "-+-+-\n",
      " | | \n",
      "\n",
      "\n",
      "Enter the position for 'X':  1\n",
      "X| | \n",
      "-+-+-\n",
      " | | \n",
      "-+-+-\n",
      " | | \n",
      "\n",
      "\n",
      "Enter the position for 'O':  5\n",
      "X| | \n",
      "-+-+-\n",
      " |O| \n",
      "-+-+-\n",
      " | | \n",
      "\n",
      "\n",
      "Enter the position for 'X':  7\n",
      "X| | \n",
      "-+-+-\n",
      " |O| \n",
      "-+-+-\n",
      "X| | \n",
      "\n",
      "\n",
      "Enter the position for 'O':  5\n",
      "Can't insert there!\n",
      "Please enter new position:  8\n",
      "X| | \n",
      "-+-+-\n",
      " |O| \n",
      "-+-+-\n",
      "X|O| \n",
      "\n",
      "\n",
      "Enter the position for 'X':  9\n",
      "X| | \n",
      "-+-+-\n",
      " |O| \n",
      "-+-+-\n",
      "X|O|X\n",
      "\n",
      "\n",
      "Enter the position for 'O':  2\n",
      "X|O| \n",
      "-+-+-\n",
      " |O| \n",
      "-+-+-\n",
      "X|O|X\n",
      "\n",
      "\n",
      "Player wins!\n"
     ]
    }
   ],
   "source": [
    "def compMove():\n",
    "    position = int(input(\"Enter the position for 'X':  \"))\n",
    "    insertLetter(bot, position)\n",
    "    return\n",
    "\n",
    "printBoard(board)\n",
    "\n",
    "\n",
    "\n",
    "\n",
    "while not checkForWin():\n",
    "    compMove()\n",
    "    playerMove()"
   ]
  },
  {
   "cell_type": "code",
   "execution_count": null,
   "id": "30133bf5",
   "metadata": {},
   "outputs": [],
   "source": []
  }
 ],
 "metadata": {
  "kernelspec": {
   "display_name": "Python 3 (ipykernel)",
   "language": "python",
   "name": "python3"
  },
  "language_info": {
   "codemirror_mode": {
    "name": "ipython",
    "version": 3
   },
   "file_extension": ".py",
   "mimetype": "text/x-python",
   "name": "python",
   "nbconvert_exporter": "python",
   "pygments_lexer": "ipython3",
   "version": "3.9.13"
  }
 },
 "nbformat": 4,
 "nbformat_minor": 5
}
